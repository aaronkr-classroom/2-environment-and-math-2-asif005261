{
 "cells": [
  {
   "cell_type": "markdown",
   "id": "e56c7c5d",
   "metadata": {},
   "source": [
    "# markdown\n",
    "write yopur own MD content from 'slide 49'."
   ]
  },
  {
   "cell_type": "code",
   "execution_count": null,
   "id": "9d87e291",
   "metadata": {
    "vscode": {
     "languageId": "plaintext"
    }
   },
   "outputs": [],
   "source": [
    "# 1. Hello Python\n",
    "name = \"Asif\"\n",
    "goals = ['learn ML', 'learn DL', 'deeply learn DL']\n",
    "print(\"Hello,\", name, \"!\")\n",
    "print(\"Hello, \"+ namme + \"!\")\n",
    "\n",
    "# for(1 starting point; 2 end condition; 4 next step;) {\n",
    "    # 3 executing code;\n",
    "# }\n",
    "for g in goals:\n",
    "print(\"-\", g)\n",
    "\n",
    "# if - elif - else\n",
    "if \"learn ML\" in goals:\n",
    " print(\"let's learn ML!\")"
   ]
  },
  {
   "cell_type": "markdown",
   "id": "2799844e",
   "metadata": {},
   "source": []
  }
 ],
 "metadata": {
  "language_info": {
   "name": "python"
  }
 },
 "nbformat": 4,
 "nbformat_minor": 5
}
